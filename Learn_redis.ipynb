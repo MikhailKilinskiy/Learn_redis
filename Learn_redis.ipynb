{
 "cells": [
  {
   "cell_type": "code",
   "execution_count": null,
   "metadata": {
    "collapsed": true
   },
   "outputs": [],
   "source": [
    "!pip install redis --user"
   ]
  },
  {
   "cell_type": "code",
   "execution_count": 16,
   "metadata": {},
   "outputs": [
    {
     "name": "stdout",
     "output_type": "stream",
     "text": [
      "9521\r\n",
      "60212\r\n"
     ]
    }
   ],
   "source": [
    "!pgrep redis-server"
   ]
  },
  {
   "cell_type": "code",
   "execution_count": 75,
   "metadata": {},
   "outputs": [
    {
     "data": {
      "text/plain": [
       "Redis<ConnectionPool<Connection<host=dev-usr-0017,port=26379,db=0>>>"
      ]
     },
     "execution_count": 75,
     "metadata": {},
     "output_type": "execute_result"
    }
   ],
   "source": [
    "import redis\n",
    "\n",
    "# db - номер базы (по умолчанию создаются 16)\n",
    "pool = redis.ConnectionPool(host='localhost', port=26379, db=0)\n",
    "r = redis.Redis(connection_pool=pool)\n",
    "r"
   ]
  },
  {
   "cell_type": "code",
   "execution_count": 18,
   "metadata": {},
   "outputs": [
    {
     "data": {
      "text/plain": [
       "True"
      ]
     },
     "execution_count": 18,
     "metadata": {},
     "output_type": "execute_result"
    }
   ],
   "source": [
    "# Сохранение множества пар ключ-значение\n",
    "r.mset({\"Eric\":\"Richmond\", \"Rusia\":\"Moscow\"})"
   ]
  },
  {
   "cell_type": "code",
   "execution_count": 21,
   "metadata": {},
   "outputs": [
    {
     "name": "stdout",
     "output_type": "stream",
     "text": [
      "b'Richmond'\n",
      "Richmond\n"
     ]
    }
   ],
   "source": [
    "print(r.get(\"Eric\")) # Возвращает байты\n",
    "print(r.get(\"Eric\").decode('utf-8')) # Возвращает строку"
   ]
  },
  {
   "cell_type": "code",
   "execution_count": 25,
   "metadata": {},
   "outputs": [
    {
     "name": "stdout",
     "output_type": "stream",
     "text": [
      "True\n",
      "2\n",
      "b'2'\n"
     ]
    }
   ],
   "source": [
    "# Инкрементация счетчика\n",
    "print(r.set(\"count\",1))\n",
    "print(r.incr(\"count\"))\n",
    "print(r.get(\"count\"))"
   ]
  },
  {
   "cell_type": "code",
   "execution_count": 31,
   "metadata": {},
   "outputs": [
    {
     "data": {
      "text/plain": [
       "{b'site1', b'site2', b'site3'}"
      ]
     },
     "execution_count": 31,
     "metadata": {},
     "output_type": "execute_result"
    }
   ],
   "source": [
    "from  datetime import date\n",
    "\n",
    "# Множества\n",
    "#urls = {'site1','site2','site3'}\n",
    "today = str(date.today())\n",
    "\n",
    "r.sadd(today, 'site1','site2','site3','site1') # Добавляются только уникальные значения\n",
    "r.smembers(today)"
   ]
  },
  {
   "cell_type": "code",
   "execution_count": 76,
   "metadata": {},
   "outputs": [
    {
     "data": {
      "text/plain": [
       "[{'budget': 220000000,\n",
       "  'id': 24428,\n",
       "  'overview': 'When an unexpected enemy emerges and threatens global safety and security, Nick Fury, director of the international peacekeeping agency known as S.H.I.E.L.D., finds himself in need of a team to pull the world back from the brink of disaster. Spanning the globe, a daring recruitment effort begins!',\n",
       "  'release_date': '2012-05-04',\n",
       "  'revenue': 1518594910,\n",
       "  'tagline': 'Some assembly required.',\n",
       "  'title': 'The Avengers',\n",
       "  'vote_average': 7.2,\n",
       "  'vote_count': 6535},\n",
       " {'budget': 160000000,\n",
       "  'id': 27205,\n",
       "  'overview': 'Cobb, a skilled thief who commits corporate espionage by infiltrating the subconscious of his targets is offered a chance to regain his old life as payment for a task considered to be impossible: \"inception\", the implantation of another person\\'s idea into a target\\'s subconscious.',\n",
       "  'release_date': '2010-07-16',\n",
       "  'revenue': 825500000,\n",
       "  'tagline': 'Your mind is the scene of the crime.',\n",
       "  'title': 'Inception',\n",
       "  'vote_average': 7.6,\n",
       "  'vote_count': 6353},\n",
       " {'budget': 237000000,\n",
       "  'id': 19995,\n",
       "  'overview': 'In the 22nd century, a paraplegic Marine is dispatched to the moon Pandora on a unique mission, but becomes torn between following orders and protecting an alien civilization.',\n",
       "  'release_date': '2009-12-18',\n",
       "  'revenue': 2781505847,\n",
       "  'tagline': 'Enter the World of Pandora.',\n",
       "  'title': 'Avatar',\n",
       "  'vote_average': 7.0,\n",
       "  'vote_count': 6075},\n",
       " {'budget': 185000000,\n",
       "  'id': 155,\n",
       "  'overview': 'Batman raises the stakes in his war on crime. With the help of Lt. Jim Gordon and District Attorney Harvey Dent, Batman sets out to dismantle the remaining criminal organizations that plague the streets. The partnership proves to be effective, but they soon find themselves prey to a reign of chaos unleashed by a rising criminal mastermind known to the terrified citizens of Gotham as the Joker.',\n",
       "  'release_date': '2008-07-18',\n",
       "  'revenue': 1001921825,\n",
       "  'tagline': 'Why So Serious?',\n",
       "  'title': 'The Dark Knight',\n",
       "  'vote_average': 7.8,\n",
       "  'vote_count': 5306},\n",
       " {'budget': 200000000,\n",
       "  'id': 68721,\n",
       "  'overview': 'The brash-but-brilliant industrialist Tony Stark faces an enemy whose reach knows no bounds. When Stark finds his personal world destroyed at his enemy’s hands, he embarks on a harrowing quest to find those responsible. This journey, at every turn, will test his mettle. With his back against the wall, Stark is left to survive by his own devices, relying on his ingenuity and instincts to protect those closest to him. As he fights his way back, Stark discovers the answer to the question that has secretly haunted him: does the man make the suit or does the suit make the man?',\n",
       "  'release_date': '2013-05-03',\n",
       "  'revenue': 1215439994,\n",
       "  'tagline': 'Unleash the power behind the armor.',\n",
       "  'title': 'Iron Man 3',\n",
       "  'vote_average': 6.8,\n",
       "  'vote_count': 5160},\n",
       " {'budget': 75000000,\n",
       "  'id': 70160,\n",
       "  'overview': 'Every year in the ruins of what was once North America, the nation of Panem forces each of its twelve districts to send a teenage boy and girl to compete in the Hunger Games.  Part twisted entertainment, part government intimidation tactic, the Hunger Games are a nationally televised event in which “Tributes” must fight with one another until one survivor remains.  Pitted against highly-trained Tributes who have prepared for these Games their entire lives, Katniss is forced to rely upon her sharp instincts as well as the mentorship of drunken former victor Haymitch Abernathy.  If she’s ever to return home to District 12, Katniss must make impossible choices in the arena that weigh survival against humanity and life against love. The world will be watching.',\n",
       "  'release_date': '2012-03-23',\n",
       "  'revenue': 691210692,\n",
       "  'tagline': 'May The Odds Be Ever In Your Favor.',\n",
       "  'title': 'The Hunger Games',\n",
       "  'vote_average': 6.5,\n",
       "  'vote_count': 5016},\n",
       " {'budget': 100000000,\n",
       "  'id': 68718,\n",
       "  'overview': 'With the help of a German bounty hunter, a freed slave sets out to rescue his wife from a brutal Mississippi plantation owner.',\n",
       "  'release_date': '2012-12-25',\n",
       "  'revenue': 162805434,\n",
       "  'tagline': 'Life, liberty and the pursuit of vengeance.',\n",
       "  'title': 'Django Unchained',\n",
       "  'vote_average': 7.4,\n",
       "  'vote_count': 4918},\n",
       " {'budget': 250000000,\n",
       "  'id': 49051,\n",
       "  'overview': 'Bilbo Baggins, a hobbit enjoying his quiet life, is swept into an epic quest by Gandalf the Grey and thirteen dwarves who seek to reclaim their mountain home from Smaug, the dragon.',\n",
       "  'release_date': '2012-12-14',\n",
       "  'revenue': 1017003568,\n",
       "  'tagline': 'From the smallest beginnings come the greatest legends.',\n",
       "  'title': 'The Hobbit: An Unexpected Journey',\n",
       "  'vote_average': 6.7,\n",
       "  'vote_count': 4803},\n",
       " {'budget': 250000000,\n",
       "  'id': 49026,\n",
       "  'overview': \"Following the death of District Attorney Harvey Dent, Batman assumes responsibility for Dent's crimes to protect the late attorney's reputation and is subsequently hunted by the Gotham City Police Department. Eight years later, Batman encounters the mysterious Selina Kyle and the villainous Bane, a new terrorist leader who overwhelms Gotham's finest. The Dark Knight resurfaces to protect a city that has branded him an enemy.\",\n",
       "  'release_date': '2012-07-20',\n",
       "  'revenue': 1081041287,\n",
       "  'tagline': 'The Legend Ends',\n",
       "  'title': 'The Dark Knight Rises',\n",
       "  'vote_average': 7.3,\n",
       "  'vote_count': 4706},\n",
       " {'budget': 200000000,\n",
       "  'id': 37724,\n",
       "  'overview': \"When Bond's latest assignment goes gravely wrong and agents around the world are exposed, MI6 is attacked forcing M to relocate the agency. These events cause her authority and position to be challenged by Gareth Mallory (Ralph Fiennes), the new Chairman of the Intelligence and Security Committee. With MI6 now compromised from both inside and out, M is left with one ally she can trust: Bond. 007 takes to the shadows - aided only by field agent, Eve (Naomie Harris) - following a trail to the mysterious Silva (Javier Bardem), whose lethal and hidden motives have yet to reveal themselves.\",\n",
       "  'release_date': '2012-11-10',\n",
       "  'revenue': 1108694081,\n",
       "  'tagline': 'Think on your sins.',\n",
       "  'title': 'Skyfall',\n",
       "  'vote_average': 6.6,\n",
       "  'vote_count': 4334}]"
      ]
     },
     "execution_count": 76,
     "metadata": {},
     "output_type": "execute_result"
    }
   ],
   "source": [
    "# Конвейрная обработка данных\n",
    "import pickle\n",
    "\n",
    "with open(\"/home/makilins/Downloads/movies.p\",\"rb\") as tmdb_file:\n",
    "    data = pickle.load(tmdb_file)\n",
    "    movs = data[0:10]\n",
    "    json_docs = []\n",
    "    for mov in movs:\n",
    "        mov_short = {}\n",
    "        mov_short[\"id\"] = mov[\"id\"]\n",
    "        mov_short[\"title\"] = mov[\"title\"]\n",
    "        mov_short[\"overview\"] = mov[\"overview\"]\n",
    "        mov_short[\"tagline\"] = mov[\"tagline\"]\n",
    "        mov_short[\"release_date\"] = mov[\"release_date\"]\n",
    "        mov_short[\"budget\"] = mov[\"budget\"]\n",
    "        mov_short[\"revenue\"] = mov[\"revenue\"]\n",
    "        mov_short[\"vote_count\"] = mov[\"vote_count\"]\n",
    "        mov_short[\"vote_average\"] = mov[\"vote_average\"]\n",
    "        json_docs.append(mov_short)\n",
    "        \n",
    "json_docs"
   ]
  },
  {
   "cell_type": "code",
   "execution_count": 77,
   "metadata": {},
   "outputs": [
    {
     "name": "stdout",
     "output_type": "stream",
     "text": [
      "[True, True, True, True, True, True, True, True, True, True]\n"
     ]
    },
    {
     "name": "stderr",
     "output_type": "stream",
     "text": [
      "/opt/Anaconda3-4.4.0/lib/python3.6/site-packages/ipykernel_launcher.py:4: DeprecationWarning: Pipeline.hmset() is deprecated. Use Pipeline.hset() instead.\n",
      "  after removing the cwd from sys.path.\n"
     ]
    }
   ],
   "source": [
    "# Конвейрная запись\n",
    "with r.pipeline() as pipe:\n",
    "    for mov in json_docs:\n",
    "        pipe.hmset(mov['id'], mov)\n",
    "    print(pipe.execute())"
   ]
  },
  {
   "cell_type": "code",
   "execution_count": 78,
   "metadata": {},
   "outputs": [
    {
     "data": {
      "text/plain": [
       "True"
      ]
     },
     "execution_count": 78,
     "metadata": {},
     "output_type": "execute_result"
    }
   ],
   "source": [
    "# Асинхронная запись на диск\n",
    "r.bgsave()"
   ]
  },
  {
   "cell_type": "code",
   "execution_count": 82,
   "metadata": {},
   "outputs": [
    {
     "name": "stdout",
     "output_type": "stream",
     "text": [
      "[b'19995', b'68721', b'37724', b'49051', b'24428', b'70160', b'49026', b'27205', b'68718', b'155']\n",
      "{b'id': b'24428', b'release_date': b'2012-05-04', b'tagline': b'Some assembly required.', b'vote_count': b'6539', b'vote_average': b'7.2', b'revenue': b'1518594910', b'budget': b'220000000', b'overview': b'When an unexpected enemy emerges and threatens global safety and security, Nick Fury, director of the international peacekeeping agency known as S.H.I.E.L.D., finds himself in need of a team to pull the world back from the brink of disaster. Spanning the globe, a daring recruitment effort begins!', b'title': b'The Avengers'}\n",
      "b'6539'\n"
     ]
    }
   ],
   "source": [
    "print(r.keys())\n",
    "print(r.hgetall('24428'))\n",
    "print(r.hget('24428','vote_count'))"
   ]
  },
  {
   "cell_type": "code",
   "execution_count": 80,
   "metadata": {
    "collapsed": true
   },
   "outputs": [],
   "source": [
    "import logging\n",
    "logging.basicConfig()\n",
    "\n",
    "\n",
    "def vote_film(film_id):\n",
    "    with r.pipeline() as pipe:\n",
    "        error_count = 0\n",
    "        error_limit = 3\n",
    "        while True:\n",
    "            if error_count > error_limit:\n",
    "                break\n",
    "            try:\n",
    "                # Следим за изменениями объекта\n",
    "                pipe.watch(film_id)\n",
    "                # Проверяем наличие объекта\n",
    "                vote_count = r.hget(film_id,'vote_count')\n",
    "                if int(vote_count) > 0:\n",
    "                    pipe.multi()\n",
    "                    r.hincrby(film_id,'vote_count',1)\n",
    "                    pipe.execute()\n",
    "                    break\n",
    "                else:\n",
    "                    pipe.unwatch() # Останавливаем поиск объекта\n",
    "                    raise Exception(film_id + \" can't found.\")\n",
    "            except redis.WatchError:\n",
    "                error_count += 1\n",
    "                print(\"error\", film_id, error_count)\n",
    "                \n",
    "    "
   ]
  },
  {
   "cell_type": "code",
   "execution_count": 81,
   "metadata": {},
   "outputs": [
    {
     "name": "stdout",
     "output_type": "stream",
     "text": [
      "error 24428 1\n",
      "error 24428 2\n",
      "error 24428 3\n",
      "error 24428 4\n"
     ]
    }
   ],
   "source": [
    "vote_film('24428')"
   ]
  },
  {
   "cell_type": "code",
   "execution_count": 72,
   "metadata": {},
   "outputs": [
    {
     "data": {
      "text/plain": [
       "datetime.datetime(2020, 5, 16, 13, 39, 40)"
      ]
     },
     "execution_count": 72,
     "metadata": {},
     "output_type": "execute_result"
    }
   ],
   "source": [
    "r.lastsave()"
   ]
  },
  {
   "cell_type": "markdown",
   "metadata": {},
   "source": [
    "## Публикация - подписка"
   ]
  },
  {
   "cell_type": "code",
   "execution_count": 83,
   "metadata": {},
   "outputs": [
    {
     "data": {
      "text/plain": [
       "<redis.client.PubSub at 0x7f393fd29128>"
      ]
     },
     "execution_count": 83,
     "metadata": {},
     "output_type": "execute_result"
    }
   ],
   "source": [
    "pubsub = r.pubsub()\n",
    "pubsub"
   ]
  },
  {
   "cell_type": "code",
   "execution_count": 85,
   "metadata": {},
   "outputs": [
    {
     "data": {
      "text/plain": [
       "{'channel': b'*-channel', 'data': 1, 'pattern': None, 'type': 'psubscribe'}"
      ]
     },
     "execution_count": 85,
     "metadata": {},
     "output_type": "execute_result"
    }
   ],
   "source": [
    "pubsub.psubscribe(\"*-channel\") # Подписаться на каналы по паттерну\n",
    "pubsub.get_message() # получить сообщение\n",
    "\n",
    "# channel - имя канала от которого получено сообщение\n",
    "# data - данные в сообщении"
   ]
  },
  {
   "cell_type": "code",
   "execution_count": 86,
   "metadata": {},
   "outputs": [
    {
     "data": {
      "text/plain": [
       "{'channel': b'*-channel', 'data': 1, 'pattern': None, 'type': 'psubscribe'}"
      ]
     },
     "execution_count": 86,
     "metadata": {},
     "output_type": "execute_result"
    }
   ],
   "source": [
    "r.publish(\"first-channel\", \"some data\") # Оправка сообщения\n",
    "pubsub.get_message()"
   ]
  },
  {
   "cell_type": "code",
   "execution_count": 87,
   "metadata": {},
   "outputs": [
    {
     "data": {
      "text/plain": [
       "{'channel': b'first-channel',\n",
       " 'data': b'some data',\n",
       " 'pattern': b'*-channel',\n",
       " 'type': 'pmessage'}"
      ]
     },
     "execution_count": 87,
     "metadata": {},
     "output_type": "execute_result"
    }
   ],
   "source": [
    "pubsub.get_message()"
   ]
  },
  {
   "cell_type": "code",
   "execution_count": 93,
   "metadata": {},
   "outputs": [
    {
     "name": "stdout",
     "output_type": "stream",
     "text": [
      "MESSAGE DATA:  b'some data2'\n",
      "MESSAGE CHANNEL:  b'first-channel'\n"
     ]
    }
   ],
   "source": [
    "# Регистрация обраотчика сообщений\n",
    "def first_handler(message):\n",
    "    print(\"MESSAGE DATA: \", message[\"data\"])\n",
    "    print(\"MESSAGE CHANNEL: \", message[\"channel\"])\n",
    "\n",
    "pubsub.subscribe(**{\"first-channel\": first_handler})\n",
    "r.publish(\"first-channel\", \"some data2\") # Оправка сообщения\n",
    "pubsub.get_message()\n",
    "pubsub.get_message()"
   ]
  },
  {
   "cell_type": "code",
   "execution_count": 96,
   "metadata": {
    "collapsed": true
   },
   "outputs": [],
   "source": [
    "message = pubsub.get_message()\n",
    "message"
   ]
  },
  {
   "cell_type": "code",
   "execution_count": 103,
   "metadata": {
    "collapsed": true
   },
   "outputs": [],
   "source": [
    "pubsub2 = r.pubsub()\n",
    "pubsub2.subscribe(**{\"first-channel\": first_handler})\n",
    "r.publish(\"first-channel\", \"some data2\") # Оправка сообщения\n",
    "r.publish(\"first-channel\", \"some data3\") # Оправка сообщения\n",
    "r.publish(\"first-channel\", \"some data4\") # Оправка сообщения\n",
    "\n",
    "thread = pubsub2.run_in_thread(sleep_time=0.001) # Обработка сообщений в фоновом режиме в отдельном потоке\n",
    "thread.stop()"
   ]
  },
  {
   "cell_type": "code",
   "execution_count": 107,
   "metadata": {},
   "outputs": [
    {
     "name": "stdout",
     "output_type": "stream",
     "text": [
      "b'49026'   {b'revenue': b'1081041287', b'id': b'49026', b'tagline': b'The Legend Ends', b'release_date': b'2012-07-20', b'overview': b\"Following the death of District Attorney Harvey Dent, Batman assumes responsibility for Dent's crimes to protect the late attorney's reputation and is subsequently hunted by the Gotham City Police Department. Eight years later, Batman encounters the mysterious Selina Kyle and the villainous Bane, a new terrorist leader who overwhelms Gotham's finest. The Dark Knight resurfaces to protect a city that has branded him an enemy.\", b'budget': b'250000000', b'vote_count': b'4706', b'title': b'The Dark Knight Rises', b'vote_average': b'7.3'}\n",
      "b'19995'   {b'revenue': b'2781505847', b'id': b'19995', b'tagline': b'Enter the World of Pandora.', b'release_date': b'2009-12-18', b'overview': b'In the 22nd century, a paraplegic Marine is dispatched to the moon Pandora on a unique mission, but becomes torn between following orders and protecting an alien civilization.', b'budget': b'237000000', b'vote_count': b'6075', b'title': b'Avatar', b'vote_average': b'7.0'}\n",
      "b'24428'   {b'id': b'24428', b'release_date': b'2012-05-04', b'tagline': b'Some assembly required.', b'vote_count': b'6539', b'vote_average': b'7.2', b'revenue': b'1518594910', b'budget': b'220000000', b'overview': b'When an unexpected enemy emerges and threatens global safety and security, Nick Fury, director of the international peacekeeping agency known as S.H.I.E.L.D., finds himself in need of a team to pull the world back from the brink of disaster. Spanning the globe, a daring recruitment effort begins!', b'title': b'The Avengers'}\n",
      "b'70160'   {b'revenue': b'691210692', b'id': b'70160', b'tagline': b'May The Odds Be Ever In Your Favor.', b'release_date': b'2012-03-23', b'overview': b'Every year in the ruins of what was once North America, the nation of Panem forces each of its twelve districts to send a teenage boy and girl to compete in the Hunger Games.  Part twisted entertainment, part government intimidation tactic, the Hunger Games are a nationally televised event in which \\xe2\\x80\\x9cTributes\\xe2\\x80\\x9d must fight with one another until one survivor remains.  Pitted against highly-trained Tributes who have prepared for these Games their entire lives, Katniss is forced to rely upon her sharp instincts as well as the mentorship of drunken former victor Haymitch Abernathy.  If she\\xe2\\x80\\x99s ever to return home to District 12, Katniss must make impossible choices in the arena that weigh survival against humanity and life against love. The world will be watching.', b'budget': b'75000000', b'vote_count': b'5016', b'title': b'The Hunger Games', b'vote_average': b'6.5'}\n",
      "b'49051'   {b'revenue': b'1017003568', b'id': b'49051', b'tagline': b'From the smallest beginnings come the greatest legends.', b'release_date': b'2012-12-14', b'overview': b'Bilbo Baggins, a hobbit enjoying his quiet life, is swept into an epic quest by Gandalf the Grey and thirteen dwarves who seek to reclaim their mountain home from Smaug, the dragon.', b'budget': b'250000000', b'vote_count': b'4803', b'title': b'The Hobbit: An Unexpected Journey', b'vote_average': b'6.7'}\n",
      "b'27205'   {b'revenue': b'825500000', b'id': b'27205', b'tagline': b'Your mind is the scene of the crime.', b'release_date': b'2010-07-16', b'overview': b'Cobb, a skilled thief who commits corporate espionage by infiltrating the subconscious of his targets is offered a chance to regain his old life as payment for a task considered to be impossible: \"inception\", the implantation of another person\\'s idea into a target\\'s subconscious.', b'budget': b'160000000', b'vote_count': b'6353', b'title': b'Inception', b'vote_average': b'7.6'}\n",
      "b'68718'   {b'revenue': b'162805434', b'id': b'68718', b'tagline': b'Life, liberty and the pursuit of vengeance.', b'release_date': b'2012-12-25', b'overview': b'With the help of a German bounty hunter, a freed slave sets out to rescue his wife from a brutal Mississippi plantation owner.', b'budget': b'100000000', b'vote_count': b'4918', b'title': b'Django Unchained', b'vote_average': b'7.4'}\n",
      "b'68721'   {b'revenue': b'1215439994', b'id': b'68721', b'tagline': b'Unleash the power behind the armor.', b'release_date': b'2013-05-03', b'overview': b'The brash-but-brilliant industrialist Tony Stark faces an enemy whose reach knows no bounds. When Stark finds his personal world destroyed at his enemy\\xe2\\x80\\x99s hands, he embarks on a harrowing quest to find those responsible. This journey, at every turn, will test his mettle. With his back against the wall, Stark is left to survive by his own devices, relying on his ingenuity and instincts to protect those closest to him. As he fights his way back, Stark discovers the answer to the question that has secretly haunted him: does the man make the suit or does the suit make the man?', b'budget': b'200000000', b'vote_count': b'5160', b'title': b'Iron Man 3', b'vote_average': b'6.8'}\n",
      "b'37724'   {b'revenue': b'1108694081', b'id': b'37724', b'tagline': b'Think on your sins.', b'release_date': b'2012-11-10', b'overview': b\"When Bond's latest assignment goes gravely wrong and agents around the world are exposed, MI6 is attacked forcing M to relocate the agency. These events cause her authority and position to be challenged by Gareth Mallory (Ralph Fiennes), the new Chairman of the Intelligence and Security Committee. With MI6 now compromised from both inside and out, M is left with one ally she can trust: Bond. 007 takes to the shadows - aided only by field agent, Eve (Naomie Harris) - following a trail to the mysterious Silva (Javier Bardem), whose lethal and hidden motives have yet to reveal themselves.\", b'budget': b'200000000', b'vote_count': b'4334', b'title': b'Skyfall', b'vote_average': b'6.6'}\n",
      "b'155'   {b'revenue': b'1001921825', b'id': b'155', b'tagline': b'Why So Serious?', b'release_date': b'2008-07-18', b'overview': b'Batman raises the stakes in his war on crime. With the help of Lt. Jim Gordon and District Attorney Harvey Dent, Batman sets out to dismantle the remaining criminal organizations that plague the streets. The partnership proves to be effective, but they soon find themselves prey to a reign of chaos unleashed by a rising criminal mastermind known to the terrified citizens of Gotham as the Joker.', b'budget': b'185000000', b'vote_count': b'5306', b'title': b'The Dark Knight', b'vote_average': b'7.8'}\n"
     ]
    }
   ],
   "source": [
    "# Можно итерироваться по данным в redis\n",
    "\n",
    "for key in r.scan_iter():\n",
    "    print(key, \" \", r.hgetall(key))"
   ]
  },
  {
   "cell_type": "code",
   "execution_count": null,
   "metadata": {
    "collapsed": true
   },
   "outputs": [],
   "source": []
  },
  {
   "cell_type": "code",
   "execution_count": null,
   "metadata": {
    "collapsed": true
   },
   "outputs": [],
   "source": []
  }
 ],
 "metadata": {
  "kernelspec": {
   "display_name": "Python 3",
   "language": "python",
   "name": "python3"
  },
  "language_info": {
   "codemirror_mode": {
    "name": "ipython",
    "version": 3
   },
   "file_extension": ".py",
   "mimetype": "text/x-python",
   "name": "python",
   "nbconvert_exporter": "python",
   "pygments_lexer": "ipython3",
   "version": "3.6.1"
  }
 },
 "nbformat": 4,
 "nbformat_minor": 2
}
